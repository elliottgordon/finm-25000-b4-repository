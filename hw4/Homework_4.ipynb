{
 "cells": [
  {
   "cell_type": "markdown",
   "metadata": {},
   "source": [
    "# FINM 25000\n",
    "## Summer 2025\n",
    "### Mark Hendricks\n",
    "\n",
    "# Homework #4\n",
    "**Background Case:** Grantham, Mayo, and Van Otterloo, 2012: Estimating the Equity Risk Premium [9-213-051]"
   ]
  },
  {
   "cell_type": "markdown",
   "metadata": {},
   "source": [
    "**Sections 1 and 2 will...**\n",
    "* NOT be graded.\n",
    "* NOT be covered on the midterm.\n",
    "* Rather, these sections will be discussed after the midterm."
   ]
  },
  {
   "cell_type": "markdown",
   "metadata": {},
   "source": [
    "# 1 GMO\n",
    "*It requires no empirical analysis; answer solely based on the material given in the case.*"
   ]
  },
  {
   "cell_type": "markdown",
   "metadata": {},
   "source": [
    "### 1. GMO's approach."
   ]
  },
  {
   "cell_type": "markdown",
   "metadata": {},
   "source": [
    "**(a) Why does GMO believe they can more easily predict long-run than short-run asset class performance?**"
   ]
  },
  {
   "cell_type": "markdown",
   "metadata": {},
   "source": [
    "*(Your answer here)*"
   ]
  },
  {
   "cell_type": "markdown",
   "metadata": {},
   "source": [
    "**(b) What predicting variables does the case mention are used by GMO? Does this fit with the goal of long-run forecasts?**"
   ]
  },
  {
   "cell_type": "markdown",
   "metadata": {},
   "source": [
    "*(Your answer here)*"
   ]
  },
  {
   "cell_type": "markdown",
   "metadata": {},
   "source": [
    "**(c) How has this approach led to contrarian positions?**"
   ]
  },
  {
   "cell_type": "markdown",
   "metadata": {},
   "source": [
    "*(Your answer here)*"
   ]
  },
  {
   "cell_type": "markdown",
   "metadata": {},
   "source": [
    "**(d) How does this approach raise business risk and managerial career risk?**"
   ]
  },
  {
   "cell_type": "markdown",
   "metadata": {},
   "source": [
    "*(Your answer here)*"
   ]
  },
  {
   "cell_type": "markdown",
   "metadata": {},
   "source": [
    "### 2. The market environment."
   ]
  },
  {
   "cell_type": "markdown",
   "metadata": {},
   "source": [
    "**(a) We often estimate the market risk premium by looking at a large sample of historic data. What reasons does the case give to be skeptical that the market risk premium will be as high in the future as it has been over the past 50 years?**"
   ]
  },
  {
   "cell_type": "markdown",
   "metadata": {},
   "source": [
    "*(Your answer here)*"
   ]
  },
  {
   "cell_type": "markdown",
   "metadata": {},
   "source": [
    "**(b) In 2007, GMO forecasts real excess equity returns will be negative. What are the biggest drivers of their pessimistic conditional forecast relative to the unconditional forecast. (See Exhibit 9.)**"
   ]
  },
  {
   "cell_type": "markdown",
   "metadata": {},
   "source": [
    "*(Your answer here)*"
   ]
  },
  {
   "cell_type": "markdown",
   "metadata": {},
   "source": [
    "**(c) In the 2011 forecast, what components has GMO revised most relative to 2007? Now how does their conditional forecast compare to the unconditional? (See Exhibit 10.)**"
   ]
  },
  {
   "cell_type": "markdown",
   "metadata": {},
   "source": [
    "*(Your answer here)*"
   ]
  },
  {
   "cell_type": "markdown",
   "metadata": {},
   "source": [
    "### 3. Consider the asset class forecasts in Exhibit 1."
   ]
  },
  {
   "cell_type": "markdown",
   "metadata": {},
   "source": [
    "**(a) Which asset class did GMO estimate to have a negative 10-year return over 2002-2011?**"
   ]
  },
  {
   "cell_type": "markdown",
   "metadata": {},
   "source": [
    "*(Your answer here)*"
   ]
  },
  {
   "cell_type": "markdown",
   "metadata": {},
   "source": [
    "**(b) Which asset classes substantially outperformed GMO's estimate over that time period?**"
   ]
  },
  {
   "cell_type": "markdown",
   "metadata": {},
   "source": [
    "*(Your answer here)*"
   ]
  },
  {
   "cell_type": "markdown",
   "metadata": {},
   "source": [
    "**(c) Which asset classes substantially underperformed GMO's estimate over that time period?**"
   ]
  },
  {
   "cell_type": "markdown",
   "metadata": {},
   "source": [
    "*(Your answer here)*"
   ]
  },
  {
   "cell_type": "markdown",
   "metadata": {},
   "source": [
    "### 4. Fund Performance."
   ]
  },
  {
   "cell_type": "markdown",
   "metadata": {},
   "source": [
    "**(a) In which asset class was GMWAX most heavily allocated throughout the majority of 1997-2011?**"
   ]
  },
  {
   "cell_type": "markdown",
   "metadata": {},
   "source": [
    "*(Your answer here)*"
   ]
  },
  {
   "cell_type": "markdown",
   "metadata": {},
   "source": [
    "**(b) Comment on the performance of GMWAX versus its benchmark. (No calculation needed; simply comment on the comparison in the exhibits.)**"
   ]
  },
  {
   "cell_type": "markdown",
   "metadata": {},
   "source": [
    "*(Your answer here)*"
   ]
  },
  {
   "cell_type": "markdown",
   "metadata": {},
   "source": [
    "# 2 Analyzing GMO"
   ]
  },
  {
   "cell_type": "markdown",
   "metadata": {},
   "source": [
    "This section utilizes data in the file, `gmo_analysis_data.xlsx` on the `returns` tab.\n",
    "\n",
    "Examine GMO's performance. For simplicity, just examine total returns.¹"
   ]
  },
  {
   "cell_type": "code",
   "execution_count": null,
   "metadata": {},
   "outputs": [],
   "source": [
    "import pandas as pd\n",
    "import numpy as np\n",
    "import statsmodels.api as sm\n",
    "\n",
    "# Load the data from the 'returns' tab\n",
    "file_path = 'gmo_analysis_data.xlsx'\n",
    "df_returns = pd.read_excel(file_path, sheet_name='returns', parse_dates=['Date'])\n",
    "df_returns.set_index('Date', inplace=True)\n",
    "\n",
    "df_returns.head()"
   ]
  },
  {
   "cell_type": "markdown",
   "metadata": {},
   "source": [
    "### 1. Calculate the mean, volatility, and Sharpe ratio for GMWAX. Do this for three samples:\n",
    "* from inception through 2011\n",
    "* 2012-present\n",
    "* inception - present\n",
    "\n",
    "Has the mean, vol, and Sharpe changed much since the case?"
   ]
  },
  {
   "cell_type": "code",
   "execution_count": null,
   "metadata": {},
   "outputs": [],
   "source": [
    "# Your code here"
   ]
  },
  {
   "cell_type": "markdown",
   "metadata": {},
   "source": [
    "### 2. GMO believes a risk premium is compensation for a security’s tendency to lose money at “bad times”. For all three samples, analyze extreme scenarios by looking at\n",
    "* Min return\n",
    "* 5th percentile (VaR-5th)\n",
    "* Maximum drawdown"
   ]
  },
  {
   "cell_type": "code",
   "execution_count": null,
   "metadata": {},
   "outputs": [],
   "source": [
    "# Your code here"
   ]
  },
  {
   "cell_type": "markdown",
   "metadata": {},
   "source": [
    "**(a) Does GMWAX have high or low tail-risk as seen by these stats?**"
   ]
  },
  {
   "cell_type": "markdown",
   "metadata": {},
   "source": [
    "*(Your answer here)*"
   ]
  },
  {
   "cell_type": "markdown",
   "metadata": {},
   "source": [
    "**(b) Does that vary much across the two subsamples?**"
   ]
  },
  {
   "cell_type": "markdown",
   "metadata": {},
   "source": [
    "*(Your answer here)*"
   ]
  },
  {
   "cell_type": "markdown",
   "metadata": {},
   "source": [
    "### 3. For all three samples, regress excess returns of GMWAX on excess returns of SPY."
   ]
  },
  {
   "cell_type": "code",
   "execution_count": null,
   "metadata": {},
   "outputs": [],
   "source": [
    "# Your code here"
   ]
  },
  {
   "cell_type": "markdown",
   "metadata": {},
   "source": [
    "**(a) Report the estimated alpha, beta, and r-squared.**"
   ]
  },
  {
   "cell_type": "markdown",
   "metadata": {},
   "source": [
    "*(Your answer here)*"
   ]
  },
  {
   "cell_type": "markdown",
   "metadata": {},
   "source": [
    "**(b) Is GMWAX a low-beta strategy? Has that changed since the case?**"
   ]
  },
  {
   "cell_type": "markdown",
   "metadata": {},
   "source": [
    "*(Your answer here)*"
   ]
  },
  {
   "cell_type": "markdown",
   "metadata": {},
   "source": [
    "**(c) Does GMWAX provide alpha? Has that changed across the subsamples?**"
   ]
  },
  {
   "cell_type": "markdown",
   "metadata": {},
   "source": [
    "*(Your answer here)*"
   ]
  },
  {
   "cell_type": "markdown",
   "metadata": {},
   "source": [
    "--- \n",
    "¹Technically, a Sharpe ratio is defined on *excess* returns, but the difference is negligible, and it is common to examine total returns."
   ]
  },
  {
   "cell_type": "markdown",
   "metadata": {},
   "source": [
    "# 3 Forecast Regressions"
   ]
  },
  {
   "cell_type": "markdown",
   "metadata": {},
   "source": [
    "This section utilizes data in the file, `gmo_analysis_data.xlsx`, on the `signals` tab."
   ]
  },
  {
   "cell_type": "code",
   "execution_count": 1,
   "metadata": {},
   "outputs": [
    {
     "data": {
      "text/html": [
       "<div>\n",
       "<style scoped>\n",
       "    .dataframe tbody tr th:only-of-type {\n",
       "        vertical-align: middle;\n",
       "    }\n",
       "\n",
       "    .dataframe tbody tr th {\n",
       "        vertical-align: top;\n",
       "    }\n",
       "\n",
       "    .dataframe thead th {\n",
       "        text-align: right;\n",
       "    }\n",
       "</style>\n",
       "<table border=\"1\" class=\"dataframe\">\n",
       "  <thead>\n",
       "    <tr style=\"text-align: right;\">\n",
       "      <th></th>\n",
       "      <th>SPX D/P</th>\n",
       "      <th>SPX E/P</th>\n",
       "      <th>T-Note 10YR</th>\n",
       "    </tr>\n",
       "    <tr>\n",
       "      <th>date</th>\n",
       "      <th></th>\n",
       "      <th></th>\n",
       "      <th></th>\n",
       "    </tr>\n",
       "  </thead>\n",
       "  <tbody>\n",
       "    <tr>\n",
       "      <th>1996-12-31</th>\n",
       "      <td>0.019651</td>\n",
       "      <td>0.050962</td>\n",
       "      <td>0.06418</td>\n",
       "    </tr>\n",
       "    <tr>\n",
       "      <th>1997-01-31</th>\n",
       "      <td>0.018455</td>\n",
       "      <td>0.048037</td>\n",
       "      <td>0.06494</td>\n",
       "    </tr>\n",
       "    <tr>\n",
       "      <th>1997-02-28</th>\n",
       "      <td>0.018502</td>\n",
       "      <td>0.047750</td>\n",
       "      <td>0.06552</td>\n",
       "    </tr>\n",
       "    <tr>\n",
       "      <th>1997-03-31</th>\n",
       "      <td>0.019427</td>\n",
       "      <td>0.054411</td>\n",
       "      <td>0.06903</td>\n",
       "    </tr>\n",
       "    <tr>\n",
       "      <th>1997-04-30</th>\n",
       "      <td>0.018430</td>\n",
       "      <td>0.051255</td>\n",
       "      <td>0.06718</td>\n",
       "    </tr>\n",
       "  </tbody>\n",
       "</table>\n",
       "</div>"
      ],
      "text/plain": [
       "             SPX D/P   SPX E/P  T-Note 10YR\n",
       "date                                       \n",
       "1996-12-31  0.019651  0.050962      0.06418\n",
       "1997-01-31  0.018455  0.048037      0.06494\n",
       "1997-02-28  0.018502  0.047750      0.06552\n",
       "1997-03-31  0.019427  0.054411      0.06903\n",
       "1997-04-30  0.018430  0.051255      0.06718"
      ]
     },
     "execution_count": 1,
     "metadata": {},
     "output_type": "execute_result"
    }
   ],
   "source": [
    "import pandas as pd\n",
    "import numpy as np\n",
    "import statsmodels.api as sm\n",
    "\n",
    "# Load the data from the 'signals' tab\n",
    "signals_df = pd.read_excel(\n",
    "    io = \"./gmo_analysis_data.xlsx\",\n",
    "    sheet_name='signals',\n",
    "    index_col=0,\n",
    "    parse_dates=[0]\n",
    "    )\n",
    "\n",
    "signals_df.head(5)"
   ]
  },
  {
   "cell_type": "markdown",
   "metadata": {},
   "source": [
    "### 1. Consider the lagged regression, where the regressor, $(X_t)$ is a period behind the target, $(r^{SPY}_{t+1})$.\n",
    "\n",
    "$$r_{t+1}^{SPY} = \\alpha^{SPY,X} + (\\beta^{SPY,X})' X_{t} + \\epsilon_{t+1}^{SPY,X} \\quad (1)$$\n",
    "\n",
    "Estimate (1) and report the $R^2$, as well as the OLS estimates for $\\alpha$ and $\\beta$. Do this for...\n",
    "\n",
    "* **X** as a single regressor, the dividend-price ratio.\n",
    "* **X** as a single regressor, the earnings-price ratio.\n",
    "* **X** as three regressors, the dividend-price ratio, the earnings-price ratio, and the 10-year yield.\n",
    "\n",
    "For each, report the r-squared."
   ]
  },
  {
   "cell_type": "code",
   "execution_count": null,
   "metadata": {},
   "outputs": [],
   "source": [
    "# Your code here"
   ]
  },
  {
   "cell_type": "markdown",
   "metadata": {},
   "source": [
    "### 2. For each of the three regressions, let's try to utilize the resulting forecast in a trading strategy.\n",
    "\n",
    "* Build the forecasted SPY returns: $\\hat{r}^{SPY}_{t+1}$. Note that this denotes the forecast made using $X_t$ to forecast the $(t+1)$ return.\n",
    "\n",
    "* Set the scale of the investment in SPY equal to 100 times the forecasted value:\n",
    "$$ w_t = 100 \\cdot \\hat{r}^{SPY}_{t+1} $$\n",
    "We are not taking this scaling too seriously. We just want the strategy to go bigger in periods where the forecast is high and to withdraw in periods where the forecast is low, or even negative. Later, we'll reset the scaling to make sure it is all comparable.\n",
    "\n",
    "* Calculate the return on this strategy:\n",
    "$$ r^*_{t+1} = w_t r^{SPY}_{t+1} $$\n",
    "\n",
    "You should now have the trading strategy returns, $r^*$ for each of the forecasts. For each strategy, estimate\n",
    "* mean, volatility, Sharpe,\n",
    "* max-drawdown\n",
    "* 5th quantile of returns\n",
    "* market alpha\n",
    "* market beta\n",
    "* market Information ratio"
   ]
  },
  {
   "cell_type": "code",
   "execution_count": null,
   "metadata": {},
   "outputs": [],
   "source": [
    "# Your code here"
   ]
  },
  {
   "cell_type": "markdown",
   "metadata": {},
   "source": [
    "### 3. The GMO case mentions that stocks under-performed short-term bonds from 2000-2011. Does the dynamic portfolio above under-perform the risk-free rate over this time?"
   ]
  },
  {
   "cell_type": "code",
   "execution_count": null,
   "metadata": {},
   "outputs": [],
   "source": [
    "# Your code here"
   ]
  },
  {
   "cell_type": "markdown",
   "metadata": {},
   "source": [
    "### 4. Based on the regression estimates, in how many periods do we estimate a negative risk premium? That is, in how many periods is our forecasted excess return negative?"
   ]
  },
  {
   "cell_type": "code",
   "execution_count": null,
   "metadata": {},
   "outputs": [],
   "source": [
    "# Your code here"
   ]
  },
  {
   "cell_type": "markdown",
   "metadata": {},
   "source": [
    "### 5. Do you believe increased risk is behind the out-performance of $\\tilde{r}^*$ and $\\tilde{r}^{gmo}$?"
   ]
  },
  {
   "cell_type": "markdown",
   "metadata": {},
   "source": [
    "*(Your answer here)*"
   ]
  },
  {
   "cell_type": "markdown",
   "metadata": {},
   "source": [
    "# 4 Extensions\n",
    "**This section is not graded, and you do not need to submit your answers. This is only provided for those interested in further study.**\n",
    "\n",
    "This section utilizes data in the file, `gmo_analysis_data.xlsx`."
   ]
  },
  {
   "cell_type": "markdown",
   "metadata": {},
   "source": [
    "Reconsider the problem above, of estimating (1) for $x$. The reported $R^2$ was the in-sample $R^2$–it examined how well the forecasts fit in the sample from which the parameters were estimated. Let's consider the out-of-sample r-squared. To do so, we need to do the following:\n",
    "\n",
    "* Start at $t=60$.\n",
    "\n",
    "* Estimate (1) only using data through time $t$.\n",
    "\n",
    "* Use the estimated parameters of (1), along with $x_{t}$ to calculate the out-of-sample forecast for the following period, $t+1$.\n",
    "$$ \\hat{r}^{SPY}_{t+1} = \\alpha^{t, SPY,x} + (\\beta^{t, SPY,x})' x_t $$\n",
    "\n",
    "* Calculate the $t+1$ forecast error,\n",
    "$$ e^x_{t+1} = r^{SPY}_{t+1} - \\hat{r}^{SPY}_{t+1} $$\n",
    "\n",
    "* Move to $t=61$, and loop through the rest of the sample.\n",
    "\n",
    "You now have the time-series of out-of-sample prediction errors, $e^x$.\n",
    "\n",
    "Calculate the time-series of out-of-sample prediction errors $e^0$, which are based on the null forecast:\n",
    "$$ \\bar{r}^{SPY}_{t+1} = \\frac{1}{t} \\sum_{i=1}^{t} R^{SPY}_i $$\n",
    "$$ e^0_{t+1} = r^{SPY}_{t+1} - \\bar{r}^{SPY}_{t+1} $$\n"
   ]
  },
  {
   "cell_type": "markdown",
   "metadata": {},
   "source": [
    "### 1. Report the out-of-sample $R^2$ :\n",
    "$$ R^2_{OOS} = 1 - \\frac{\\sum_{t=61}^{T} (e^x_t)^2}{\\sum_{t=61}^{T} (e^0_t)^2} $$\n",
    "\n",
    "Note that unlike an in-sample r-squared, the out-of-sample r-squared can be anywhere between $(-\\infty, 1]$.\n",
    "\n",
    "Did this forecasting strategy produce a positive OOS r-squared?"
   ]
  },
  {
   "cell_type": "code",
   "execution_count": null,
   "metadata": {},
   "outputs": [],
   "source": [
    "# Your code here"
   ]
  },
  {
   "cell_type": "markdown",
   "metadata": {},
   "source": [
    "### 2. Re-do problem 3.2 using this OOS forecast.\n",
    "How much better/worse is the OOS Earnings-Price ratio strategy compared to the in-sample version of 3.2?"
   ]
  },
  {
   "cell_type": "code",
   "execution_count": null,
   "metadata": {},
   "outputs": [],
   "source": [
    "# Your code here"
   ]
  }
 ],
 "metadata": {
  "kernelspec": {
   "display_name": "b4_venv",
   "language": "python",
   "name": "python3"
  },
  "language_info": {
   "codemirror_mode": {
    "name": "ipython",
    "version": 3
   },
   "file_extension": ".py",
   "mimetype": "text/x-python",
   "name": "python",
   "nbconvert_exporter": "python",
   "pygments_lexer": "ipython3",
   "version": "3.11.0"
  }
 },
 "nbformat": 4,
 "nbformat_minor": 4
}
