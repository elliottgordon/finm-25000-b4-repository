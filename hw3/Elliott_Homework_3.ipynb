{
 "cells": [
  {
   "cell_type": "markdown",
   "metadata": {},
   "source": [
    "# FINM 25000 - Summer 2025\n",
    "### Instructor: Mark Hendricks\n",
    "\n",
    "## Homework #3\n",
    "\n",
    "**Background Case**: Smart Beta Exchange-Traded Funds and Factor Investing\n",
    "\n",
    "No need to study/review the entire case and all the exhibits beyond what is useful in addressing the\n",
    "homework questions. But they are interesting and very informative if you are inclined."
   ]
  },
  {
   "cell_type": "markdown",
   "metadata": {},
   "source": [
    "## 1. Factor Investing \n",
    "\n",
    "*This section is not graded, and you do not need to submit your answers. We will discuss these issues in class.*\n",
    "\n",
    "1. **Describe the four factors**: Market, Size, Value, and Momentum.\n",
    "\n",
    "Market: the relative exposure of a firm's stock return with a market portfolio (i.e. the S&P 500)\n",
    "\n",
    "Size: the size of a firm as measured by its market capitalization\n",
    "\n",
    "Value: the ratio of a firm's book value (assets - liabilities) to its market capitalization (B/M ratio)\n",
    "\n",
    "Momentum: stocks that have a large price appreciation in one year continue to have high price appreciation the following year and stocks with negative or lower appreciation continue to do so the following year\n",
    "\n",
    "   - Are they constructed from portfolios going long stocks or portfolios that go long some stocks and short others?\n",
    "   - - They are constructed from portfolio that go long some stocks and short others/\n",
    "   - What is the point of figures 1–6?\n",
    "   - - The figures provide a visual understanding of the real returns based on the provided factors.\n",
    "\n",
    "2. How is a “smart beta” ETF different from a traditional ETF?\n",
    "\n",
    "Smart beta ETF weighting schemes are based on firms' financial characteristics or properites of their stock returns whereas traditional ETF weightings are based on market capitalization.\n",
    "\n",
    "3. Is it possible for all investors to invest in the Value factor?\n",
    "\n",
    "Yes, via single stocks, factor funds, and broad market indices, every individual has he ability to invest in the Value factor.\n",
    "\n",
    "4. How does factor investing differ from traditional diversification?\n",
    "\n",
    "Rather than diversifying risk (covariances between stocks), factor investing intentionally exposes an investor to a certain type of risk that they deem to be an indicator of returns."
   ]
  },
  {
   "cell_type": "code",
   "execution_count": 1,
   "id": "caade54a",
   "metadata": {},
   "outputs": [
    {
     "data": {
      "text/html": [
       "<div>\n",
       "<style scoped>\n",
       "    .dataframe tbody tr th:only-of-type {\n",
       "        vertical-align: middle;\n",
       "    }\n",
       "\n",
       "    .dataframe tbody tr th {\n",
       "        vertical-align: top;\n",
       "    }\n",
       "\n",
       "    .dataframe thead th {\n",
       "        text-align: right;\n",
       "    }\n",
       "</style>\n",
       "<table border=\"1\" class=\"dataframe\">\n",
       "  <thead>\n",
       "    <tr style=\"text-align: right;\">\n",
       "      <th></th>\n",
       "      <th>MKT</th>\n",
       "      <th>SMB</th>\n",
       "      <th>HML</th>\n",
       "      <th>RMW</th>\n",
       "      <th>CMA</th>\n",
       "      <th>UMD</th>\n",
       "    </tr>\n",
       "    <tr>\n",
       "      <th>Date</th>\n",
       "      <th></th>\n",
       "      <th></th>\n",
       "      <th></th>\n",
       "      <th></th>\n",
       "      <th></th>\n",
       "      <th></th>\n",
       "    </tr>\n",
       "  </thead>\n",
       "  <tbody>\n",
       "    <tr>\n",
       "      <th>1980-01-31</th>\n",
       "      <td>0.0550</td>\n",
       "      <td>0.0188</td>\n",
       "      <td>0.0185</td>\n",
       "      <td>-0.0184</td>\n",
       "      <td>0.0189</td>\n",
       "      <td>0.0745</td>\n",
       "    </tr>\n",
       "    <tr>\n",
       "      <th>1980-02-29</th>\n",
       "      <td>-0.0123</td>\n",
       "      <td>-0.0162</td>\n",
       "      <td>0.0059</td>\n",
       "      <td>-0.0095</td>\n",
       "      <td>0.0292</td>\n",
       "      <td>0.0789</td>\n",
       "    </tr>\n",
       "    <tr>\n",
       "      <th>1980-03-31</th>\n",
       "      <td>-0.1289</td>\n",
       "      <td>-0.0697</td>\n",
       "      <td>-0.0096</td>\n",
       "      <td>0.0182</td>\n",
       "      <td>-0.0105</td>\n",
       "      <td>-0.0958</td>\n",
       "    </tr>\n",
       "    <tr>\n",
       "      <th>1980-04-30</th>\n",
       "      <td>0.0396</td>\n",
       "      <td>0.0105</td>\n",
       "      <td>0.0103</td>\n",
       "      <td>-0.0218</td>\n",
       "      <td>0.0034</td>\n",
       "      <td>-0.0048</td>\n",
       "    </tr>\n",
       "    <tr>\n",
       "      <th>1980-05-31</th>\n",
       "      <td>0.0526</td>\n",
       "      <td>0.0200</td>\n",
       "      <td>0.0038</td>\n",
       "      <td>0.0043</td>\n",
       "      <td>-0.0063</td>\n",
       "      <td>-0.0118</td>\n",
       "    </tr>\n",
       "  </tbody>\n",
       "</table>\n",
       "</div>"
      ],
      "text/plain": [
       "               MKT     SMB     HML     RMW     CMA     UMD\n",
       "Date                                                      \n",
       "1980-01-31  0.0550  0.0188  0.0185 -0.0184  0.0189  0.0745\n",
       "1980-02-29 -0.0123 -0.0162  0.0059 -0.0095  0.0292  0.0789\n",
       "1980-03-31 -0.1289 -0.0697 -0.0096  0.0182 -0.0105 -0.0958\n",
       "1980-04-30  0.0396  0.0105  0.0103 -0.0218  0.0034 -0.0048\n",
       "1980-05-31  0.0526  0.0200  0.0038  0.0043 -0.0063 -0.0118"
      ]
     },
     "execution_count": 1,
     "metadata": {},
     "output_type": "execute_result"
    }
   ],
   "source": [
    "import pandas as pd\n",
    "import numpy as np\n",
    "\n",
    "factors_df = pd.read_excel(io = \"./factor_pricing_data.xlsx\",\n",
    "                                     sheet_name='factors (excess returns)',\n",
    "                                     index_col=0,\n",
    "                                     parse_dates=[0])\n",
    "\n",
    "factors_df.head(5)"
   ]
  },
  {
   "cell_type": "markdown",
   "metadata": {},
   "source": [
    "## 2. Pricing Factors and Assets\n",
    "\n",
    "On Github, find the data files\n",
    "•# factor pricing data.xlsx\n",
    "Note that the FF factor labels are as follows:\n",
    "- Market: MKT\n",
    "- Size: SMB (Small Minus Big)\n",
    "- Value: HML (High Minus Low)\n",
    "- Momentum: UMD (Up Minus Down)\n",
    "\n",
    "\n",
    "### 1. The Factors\n",
    "Calculate their univariate performance statistics:\n",
    "- mean\n",
    "- volatility\n",
    "- Sharpe ratio\n",
    "- VaR(.05)\n",
    "\n",
    "Does each factor have a premium (positive expected excess return)?"
   ]
  },
  {
   "cell_type": "code",
   "execution_count": 6,
   "metadata": {},
   "outputs": [
    {
     "data": {
      "text/html": [
       "<div>\n",
       "<style scoped>\n",
       "    .dataframe tbody tr th:only-of-type {\n",
       "        vertical-align: middle;\n",
       "    }\n",
       "\n",
       "    .dataframe tbody tr th {\n",
       "        vertical-align: top;\n",
       "    }\n",
       "\n",
       "    .dataframe thead th {\n",
       "        text-align: right;\n",
       "    }\n",
       "</style>\n",
       "<table border=\"1\" class=\"dataframe\">\n",
       "  <thead>\n",
       "    <tr style=\"text-align: right;\">\n",
       "      <th></th>\n",
       "      <th>Annualized Mean</th>\n",
       "      <th>Annualized Volatility</th>\n",
       "      <th>Annualized Sharpe Ratio</th>\n",
       "      <th>VaR (0.05)</th>\n",
       "    </tr>\n",
       "  </thead>\n",
       "  <tbody>\n",
       "    <tr>\n",
       "      <th>MKT</th>\n",
       "      <td>0.084944</td>\n",
       "      <td>0.156374</td>\n",
       "      <td>0.543210</td>\n",
       "      <td>-0.072470</td>\n",
       "    </tr>\n",
       "    <tr>\n",
       "      <th>SMB</th>\n",
       "      <td>0.005420</td>\n",
       "      <td>0.101365</td>\n",
       "      <td>0.053469</td>\n",
       "      <td>-0.043155</td>\n",
       "    </tr>\n",
       "    <tr>\n",
       "      <th>HML</th>\n",
       "      <td>0.026508</td>\n",
       "      <td>0.108907</td>\n",
       "      <td>0.243402</td>\n",
       "      <td>-0.042210</td>\n",
       "    </tr>\n",
       "    <tr>\n",
       "      <th>RMW</th>\n",
       "      <td>0.045139</td>\n",
       "      <td>0.083055</td>\n",
       "      <td>0.543484</td>\n",
       "      <td>-0.028485</td>\n",
       "    </tr>\n",
       "    <tr>\n",
       "      <th>CMA</th>\n",
       "      <td>0.027686</td>\n",
       "      <td>0.072496</td>\n",
       "      <td>0.381900</td>\n",
       "      <td>-0.027855</td>\n",
       "    </tr>\n",
       "    <tr>\n",
       "      <th>UMD</th>\n",
       "      <td>0.061769</td>\n",
       "      <td>0.153524</td>\n",
       "      <td>0.402343</td>\n",
       "      <td>-0.068035</td>\n",
       "    </tr>\n",
       "  </tbody>\n",
       "</table>\n",
       "</div>"
      ],
      "text/plain": [
       "     Annualized Mean  Annualized Volatility  Annualized Sharpe Ratio  \\\n",
       "MKT         0.084944               0.156374                 0.543210   \n",
       "SMB         0.005420               0.101365                 0.053469   \n",
       "HML         0.026508               0.108907                 0.243402   \n",
       "RMW         0.045139               0.083055                 0.543484   \n",
       "CMA         0.027686               0.072496                 0.381900   \n",
       "UMD         0.061769               0.153524                 0.402343   \n",
       "\n",
       "     VaR (0.05)  \n",
       "MKT   -0.072470  \n",
       "SMB   -0.043155  \n",
       "HML   -0.042210  \n",
       "RMW   -0.028485  \n",
       "CMA   -0.027855  \n",
       "UMD   -0.068035  "
      ]
     },
     "execution_count": 6,
     "metadata": {},
     "output_type": "execute_result"
    }
   ],
   "source": [
    "# Insert your code here to load the 'factor pricing data.xlsx' and calculate statistics\n",
    "\n",
    "def performance_summary(rets):\n",
    "    \"\"\"\n",
    "    This functions calculates the performance stats (mean, vol, sharpe, and VaR)\n",
    "    \"\"\"\n",
    "    summary = pd.DataFrame()\n",
    "    summary['Annualized Mean'] = rets.mean() * 12\n",
    "    summary['Annualized Volatility'] = rets.std() * np.sqrt(12)\n",
    "    summary['Annualized Sharpe Ratio'] = summary['Annualized Mean'] / summary['Annualized Volatility']\n",
    "    summary['VaR (0.05)'] = rets.quantile(q = 0.05, axis = 'index')\n",
    "    return summary\n",
    "\n",
    "performance_summary(factors_df)"
   ]
  },
  {
   "cell_type": "markdown",
   "metadata": {},
   "source": [
    "### 2. Factor Correlations\n",
    "The factors are constructed in such a way as to reduce correlation between them.\n",
    "Report the correlation matrix across the three factors.\n",
    "- Does the construction method succeed in keeping correlations small?"
   ]
  },
  {
   "cell_type": "code",
   "execution_count": null,
   "metadata": {},
   "outputs": [],
   "source": [
    "# Insert your code here to calculate and display the correlation matrix"
   ]
  },
  {
   "cell_type": "markdown",
   "metadata": {},
   "source": [
    "### 3. Cumulative Returns\n",
    "Plot the cumulative returns of the factors."
   ]
  },
  {
   "cell_type": "code",
   "execution_count": null,
   "metadata": {},
   "outputs": [],
   "source": [
    "# Insert your code here to plot cumulative returns"
   ]
  },
  {
   "cell_type": "markdown",
   "metadata": {},
   "source": [
    "### 4. Test Assets\n",
    "UThe “assets” tab provides monthly excess return data on various industry stock-portfolios.\n",
    "Denote these as $r^i$, for n = 1, . . . , 12.\n",
    "Calculate the (annualized) univariate statistics from 1.1.\n"
   ]
  },
  {
   "cell_type": "code",
   "execution_count": null,
   "metadata": {},
   "outputs": [],
   "source": [
    "# Insert your code here to calculate test asset statistics"
   ]
  },
  {
   "cell_type": "markdown",
   "metadata": {},
   "source": [
    "### 5. Mean-Variance Explanation\n",
    "Can the difference in mean excess returns of the portfolios be explained by differences in their volatilities? Or by their VaR(.05) statistics?"
   ]
  },
  {
   "cell_type": "markdown",
   "metadata": {},
   "source": [
    "## 3. CAPM\n",
    "The Capital Asset Pricing Model (CAPM) asserts that an asset (or portfolio’s) expected excess return is completely a function of its beta to the equity market index (SPY, or in this case, MKT.)\n",
    "\n",
    "Specifically, it asserts that, for any excess return, $\\tilde{r}^i$, its mean is proportional to the mean excess return of the market, $\\tilde{f}^{\\text{mkt}}$, where the proportionality is the regression beta of $\\tilde{r}^i$ on $\\tilde{f}^{\\text{mkt}}$:\n",
    "\n",
    "$$\n",
    "\\mathbb{E}[\\tilde{r}^i_t] = \\beta^{i, \\text{mkt}} \\, \\mathbb{E}[\\tilde{f}^{\\text{mkt}}_t] \\tag{CAPM}\n",
    "$$\n",
    "\n",
    "Let’s examine whether that seems plausible.\n",
    "\n",
    "### 1. Time-Series Regression\n",
    "For each of the n = 12 test assets, run the CAPM time-series regression:\n",
    "\n",
    "$$\\tilde{r}_i^t = \\alpha_i + \\beta_{i,\\text{mkt}} \\tilde{f}_{\\text{mkt}}^t + \\epsilon_i^t $$\n",
    "\n",
    "So you are running 12 separate regressions, each using the T-sized sample of time-series data."
   ]
  },
  {
   "cell_type": "code",
   "execution_count": null,
   "metadata": {},
   "outputs": [],
   "source": [
    "# Insert your code here to run CAPM regressions"
   ]
  },
  {
   "cell_type": "markdown",
   "metadata": {},
   "source": [
    "### 2. Report Metrics\n",
    "Report the estimated $\\beta_{i,\\text{mkt}}$, Treynor Ratio, $\\alpha_i$, and Information Ratio for each of the n regressions "
   ]
  },
  {
   "cell_type": "code",
   "execution_count": null,
   "metadata": {},
   "outputs": [],
   "source": [
    "# Insert your code here to calculate and display the metrics"
   ]
  },
  {
   "cell_type": "markdown",
   "metadata": {},
   "source": [
    "### 3\n",
    "If (CAPM) were true, what would be true of the Treynor Ratios, alphas, and Information Ratios?"
   ]
  },
  {
   "cell_type": "code",
   "execution_count": null,
   "id": "b2155da8",
   "metadata": {},
   "outputs": [],
   "source": [
    "# Insert your code here to calculate and display the metrics"
   ]
  },
  {
   "cell_type": "markdown",
   "id": "6c209553",
   "metadata": {},
   "source": [
    "### 4 \n",
    "Calculate the mean-absolute-error of the estimated alphas, (one for each security $\\tilde{r^i})$. \n",
    "\n",
    "$$\n",
    "\\text{MAE} = \\frac{1}{n} \\sum_{i=1}^{n} |\\hat{\\alpha}^i|\n",
    "$$\n",
    "\n",
    "If the pricing model worked, should these alpha estimates be large or small? Why? Based on your MAE stat, does this seem to support the pricing model or not?"
   ]
  },
  {
   "cell_type": "markdown",
   "metadata": {},
   "source": [
    "## 4. A Multifactor Model \n",
    "Perhaps expected excess returns are determined by multiple factors, not just the market factor as hypothesized by the CAPM. Try the following 4-factor model: \n",
    "\n",
    "$$\n",
    "\\mathbb{E}[\\tilde{r}^i] = \\beta^{i,\\text{mkt}} \\, \\mathbb{E}[\\tilde{f}^{\\text{mkt}}] + \\beta^{i,\\text{smb}} \\, \\mathbb{E}[\\tilde{f}^{\\text{smb}}] + \\beta^{i,\\text{hml}} \\, \\mathbb{E}[\\tilde{f}^{\\text{hml}}] + \\beta^{i,\\text{umd}} \\, \\mathbb{E}[\\tilde{f}^{\\text{umd}}]\n",
    "$$\n",
    "\n",
    "Let’s use regression methods to test whether the selected four pricing factors work.\n",
    "For each equity security, estimate the following regression to test the 4-factor model:\n",
    "$$\n",
    "\\tilde{r}^i_t = \\alpha^i + \\beta^{i,\\text{mkt}} \\tilde{f}^{\\text{mkt}}_t + \\beta^{i,\\text{smb}} \\tilde{f}^{\\text{smb}}_t + \\beta^{i,\\text{hml}} \\tilde{f}^{\\text{hml}}_t + \\beta^{i,\\text{umd}} \\tilde{f}^{\\text{umd}}_t + \\epsilon_t\n",
    "$$\n",
    "So you are running that regression 12 times, once for each security $\\tilde{r^i}$\n",
    "\n",
    "### 1. Time-Series Regression (Four-Factor Model)\n",
    "For each regression, report the estimated $\\alpha$ and r-squared. "
   ]
  },
  {
   "cell_type": "code",
   "execution_count": null,
   "metadata": {},
   "outputs": [],
   "source": [
    "# Insert your code here to run 4-factor model regressions"
   ]
  },
  {
   "cell_type": "markdown",
   "metadata": {},
   "source": [
    "### 2\n",
    "Calculate the mean-absolute-error of the estimated alphas (one for each security, $\\tilde{r}^i$):\n",
    "\n",
    "$$\n",
    "\\text{MAE} = \\frac{1}{n} \\sum_{i=1}^{n} |\\hat{\\alpha}^i|\n",
    "$$\n",
    "\n",
    "If the pricing model worked, should these alpha estimates be large or small? Why? Based on your MAE stat, does this seem to support the pricing model or not?"
   ]
  },
  {
   "cell_type": "code",
   "execution_count": null,
   "id": "a4359364",
   "metadata": {},
   "outputs": [],
   "source": [
    "# Insert your code here to run 4-factor model regressions"
   ]
  },
  {
   "cell_type": "markdown",
   "metadata": {},
   "source": [
    "## 5. Extensions *(Ungraded)*\n",
    "\n",
    "This section is not graded, and you do not need to submit your answers. This is only provided for those interested in further study.\n",
    "\n"
   ]
  },
  {
   "cell_type": "markdown",
   "id": "8c58575d",
   "metadata": {},
   "source": [
    "### 1. Pricing Factors and Mean-Variance Optimality\n",
    "\n",
    "The Fundamental Theorem of Asset Pricing says that these priced factors are sufficient to construct the Tangency Portfolio. Let’s examine both of those implications for the excess returns of the 4 factors, $\\tilde{f}^i$, as tested on the industry equity excess returns $\\tilde{r}^i$.\n",
    "\n",
    "(a) Use the “RF” factor in the Fama-French data to convert both the factor data and the equity data into excess returns.\n",
    "\n",
    "(b) Report the mean excess return for the four factors. Are they all strongly positive? If one of the means is negative, what would that say about the pricing model?\n",
    "\n",
    "(c) Report the correlation matrix of the four factors’ excess returns.\n",
    "\n",
    "(d) Use both the equity data, $\\tilde{r}$, and factor data, $\\tilde{f}$, to construct the tangency portfolio weights.  \n",
    "Report the weights.\n",
    "\n",
    "(e) Is much weight put on the equity data, or is most of the weight on the factors?\n",
    "\n",
    "(f) If the factors were sufficient for pricing, what should we find?\n",
    "\n",
    "\n",
    "\n",
    "\n",
    "\n"
   ]
  },
  {
   "cell_type": "markdown",
   "id": "35181f18",
   "metadata": {},
   "source": [
    "### 2. Testing Pricing Models with Cross-Sectional Regression\n",
    "\n",
    "Let’s further evaluate whether the pricing model in (1) works. Instead of evaluating the alphas from the time-series regressions, we try to directly estimate (1). Run the following cross-sectional regression:\n",
    "\n",
    "$$\n",
    "\\bar{r}^i_t = \\theta + \\phi^{\\text{mkt}} \\hat{\\beta}^{i,\\text{mkt}} + \\phi^{\\text{smb}} \\hat{\\beta}^{i,\\text{smb}} + \\phi^{\\text{hml}} \\hat{\\beta}^{i,\\text{hml}} + \\phi^{\\text{umd}} \\hat{\\beta}^{i,\\text{umd}} + \\nu^i \\tag{3}\n",
    "$$\n",
    "\n",
    "This may seem like a strange regression, but it is the estimated version of (1).\n",
    "\n",
    "- It is a cross-sectional regression, not a time-series regression. That is, we are running one single regression, with 12 data points, one for each security.\n",
    "\n",
    "- The left-side variable is the sample average of each equity’s excess return, $\\bar{r}^i$.\n",
    "\n",
    "- The right-side regressors are the estimated betas (12 sets of them) from the previous (12) time-series regressions.\n",
    "\n",
    "- The errors, usually denoted $\\epsilon_t$ are now $\\nu^i$, (one for each security.)\n",
    "\n",
    "- This regression will return an intercept, which we are calling $\\theta$. Usually we call the regression intercept $\\alpha$, but that would be confusing given that we used $\\alpha$ to denote the intercepts of the time series regressions.\n",
    "\n",
    "- This regression will return regression “betas” that we are notating $\\phi$. So in this regression, $X$ is actually the estimates betas from the time-series regressions in (2) and $\\beta$ is actually $\\phi$.\n",
    "\n",
    "<sub>¹excluding SHV, since we already have a risk-free rate.</sub>\n",
    "\n",
    "Report the r-squared from (3). Also report the estimate for θ and for the four ϕ\n",
    "\n",
    "\n",
    "\n"
   ]
  },
  {
   "cell_type": "markdown",
   "id": "1223d75a",
   "metadata": {},
   "source": [
    "### 3 \n",
    "\n",
    "If the pricing model worked, what would we expect for this r-squared, θ, and ϕ?"
   ]
  },
  {
   "cell_type": "markdown",
   "id": "bd2ed688",
   "metadata": {},
   "source": [
    "### 4 \n",
    "\n",
    "Is your conclusion that this model seems to work, or not?"
   ]
  },
  {
   "cell_type": "markdown",
   "id": "89905289",
   "metadata": {},
   "source": [
    "### 5 \n",
    "\n",
    "Would you expect a linear factor pricing model to work better on an industry ETF, (portfolio,) or on a single-name equity?\n"
   ]
  },
  {
   "cell_type": "markdown",
   "id": "37896865",
   "metadata": {},
   "source": [
    "### NOTE: ChatGPT helped me with the conversion. I checked the questions for accuracy - the titles were added by Chat; \n",
    "\n",
    "Warmly, Lance "
   ]
  }
 ],
 "metadata": {
  "kernelspec": {
   "display_name": "b4_venv",
   "language": "python",
   "name": "python3"
  },
  "language_info": {
   "codemirror_mode": {
    "name": "ipython",
    "version": 3
   },
   "file_extension": ".py",
   "mimetype": "text/x-python",
   "name": "python",
   "nbconvert_exporter": "python",
   "pygments_lexer": "ipython3",
   "version": "3.11.0"
  }
 },
 "nbformat": 4,
 "nbformat_minor": 5
}
